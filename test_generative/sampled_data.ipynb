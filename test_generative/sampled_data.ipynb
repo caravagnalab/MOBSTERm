{
 "cells": [
  {
   "cell_type": "code",
   "execution_count": 54,
   "metadata": {},
   "outputs": [
    {
     "name": "stdout",
     "output_type": "stream",
     "text": [
      "The autoreload extension is already loaded. To reload it, use:\n",
      "  %reload_ext autoreload\n"
     ]
    }
   ],
   "source": [
    "import numpy as np\n",
    "import pyro.distributions as dist\n",
    "import torch\n",
    "import pyro\n",
    "import matplotlib.pyplot as plt\n",
    "import model_mobster_mv_orfeo_generative as mobster_mv \n",
    "from utils.BoundedPareto import BoundedPareto\n",
    "from sklearn.metrics import normalized_mutual_info_score\n",
    "from sklearn.metrics import confusion_matrix, classification_report, accuracy_score\n",
    "import seaborn as sns\n",
    "\n",
    "\n",
    "%load_ext autoreload\n",
    "%autoreload 2"
   ]
  },
  {
   "cell_type": "code",
   "execution_count": 60,
   "metadata": {},
   "outputs": [
    {
     "data": {
      "text/plain": [
       "tensor([1, 2, 3, 4, 5, 6, 7, 8, 9])"
      ]
     },
     "execution_count": 60,
     "metadata": {},
     "output_type": "execute_result"
    }
   ],
   "source": [
    "tot = []\n",
    "a = torch.tensor([1,2,3])\n",
    "tot.append(a)\n",
    "b = torch.tensor([4,5,6])\n",
    "tot.append(b)\n",
    "c = torch.tensor([7,8,9])\n",
    "tot.append(c)\n",
    "torch.cat(tot)"
   ]
  },
  {
   "cell_type": "markdown",
   "metadata": {},
   "source": [
    "### N = 1000, n_clusters (in each dimension) = 3 "
   ]
  },
  {
   "cell_type": "code",
   "execution_count": 74,
   "metadata": {},
   "outputs": [
    {
     "name": "stdout",
     "output_type": "stream",
     "text": [
      "torch.Size([1000, 2])\n",
      "torch.Size([1000, 2])\n"
     ]
    },
    {
     "data": {
      "text/plain": [
       "<matplotlib.collections.PathCollection at 0x17ac56d1670>"
      ]
     },
     "execution_count": 74,
     "metadata": {},
     "output_type": "execute_result"
    },
    {
     "data": {
      "image/png": "[encoded data removed]",
      "text/plain": [
       "<Figure size 640x480 with 1 Axes>"
      ]
     },
     "metadata": {},
     "output_type": "display_data"
    }
   ],
   "source": [
    "# Pareto-Binomial\n",
    "def pareto_binomial(N, alpha, L, H, depth):\n",
    "    p = BoundedPareto(scale=L, alpha=alpha, upper_limit=H).sample((N,))\n",
    "    return dist.Binomial(total_count=depth, probs=p).sample()\n",
    "\n",
    "# Beta-Binomial\n",
    "def beta_binomial(N, phi, kappa, depth):\n",
    "    a = phi*kappa\n",
    "    b = (1-phi)*kappa\n",
    "    p = dist.Beta(a, b).sample((N,))\n",
    "    return dist.Binomial(total_count=depth, probs=p).sample()\n",
    "\n",
    "\n",
    "def generate_data(N, K, pi):\n",
    "    NV = []\n",
    "    labels = []\n",
    "    type_labels = []\n",
    "    param_list = []\n",
    "    # depth = torch.randint(80, 150, (N,))  # Random depth\n",
    "    depth = torch.tensor(120).repeat((N,))\n",
    "\n",
    "    for k in range(K):\n",
    "        # Pareto-Binomial for one cluster in each dimension\n",
    "        if k == 0:\n",
    "            alpha = torch.tensor(1.0)  # Pareto shape parameter\n",
    "            pareto_L = torch.tensor(0.01)  # scale Pareto\n",
    "            pareto_H = torch.tensor(0.5)  # Upper bound Pareto\n",
    "            NV.append(pareto_binomial(pi[k], alpha, pareto_L, pareto_H, depth[:pi[k]]))\n",
    "            labels.extend([k] * pi[k])\n",
    "            type_labels.extend(['P'] * pi[k])\n",
    "            param_list.extend([1.] * pi[k])\n",
    "        elif k == 1:\n",
    "            # Beta-Binomial in 0.5\n",
    "            kappa = 200.\n",
    "            phi = 0.5\n",
    "            NV.append(beta_binomial(pi[k], phi, kappa, depth[pi[k-1]:(pi[k-1]+pi[k])]))\n",
    "            labels.extend([k] * pi[k])\n",
    "            type_labels.extend(['B'] * pi[k])\n",
    "            param_list.extend([phi] * pi[k])\n",
    "        else:\n",
    "            # Beta-Binomial in [0.15, 0.45]\n",
    "            kappa = 200.\n",
    "            phi_L, phi_H = 0.15, 0.4\n",
    "            phi = dist.Uniform(phi_L, phi_H).sample()\n",
    "            NV.append(beta_binomial(pi[k], phi, kappa, depth[pi[k-1]:(pi[k-1]+pi[k])]))\n",
    "            labels.extend([k] * pi[k])\n",
    "            type_labels.extend(['B'] * pi[k])\n",
    "            param_list.extend([round(phi.item(), 3)] * pi[k])\n",
    "    \n",
    "    NV = torch.cat(NV)\n",
    "    labels = torch.tensor(labels)\n",
    "    return NV, depth, labels, type_labels, param_list\n",
    "\n",
    "N = 1000  # number of samples\n",
    "K1 = 2    # number of clusters in dim 1\n",
    "K2 = 2   # number of clusters in dim 2\n",
    "\n",
    "pi_x = dist.Dirichlet(torch.ones(K1)).sample() * N # number of data in each cluster for dim 1\n",
    "pi_x = np.round(pi_x.numpy()).astype('int')\n",
    "if(np.sum(pi_x) < N):\n",
    "    pi_x[-1] = pi_x[-1]+1\n",
    "if(np.sum(pi_x) > N):\n",
    "    pi_x[-1] = pi_x[-1]-1\n",
    "\n",
    "\n",
    "pi_y = dist.Dirichlet(torch.ones(K2)).sample() * N # number of data in each cluster for dim 2\n",
    "pi_y = np.round(pi_y.numpy()).astype('int')\n",
    "if(np.sum(pi_y) < N):\n",
    "    pi_y[-1] = pi_y[-1]+1\n",
    "if(np.sum(pi_y) > N):\n",
    "    pi_y[-1] = pi_y[-1]-1\n",
    "\n",
    "pi_z = dist.Dirichlet(torch.ones(K2)).sample() * N # number of data in each cluster for dim 2\n",
    "pi_z = np.round(pi_z.numpy()).astype('int')\n",
    "if(np.sum(pi_z) < N):\n",
    "    pi_z[-1] = pi_z[-1]+1\n",
    "if(np.sum(pi_z) > N):\n",
    "    pi_z[-1] = pi_z[-1]-1\n",
    "# pi_x = torch.tensor([0.4, 0.3, 0.3])\n",
    "# pi_y = torch.tensor([0.5, 0.25, 0.25])\n",
    "\n",
    "NV_x, DP_x, labels_x, type_labels_x, param_list_x = generate_data(N, K1, pi_x)\n",
    "NV_y, DP_y, labels_y, type_labels_y, param_list_y = generate_data(N, K2, pi_y)\n",
    "\n",
    "NV = torch.stack((NV_x, NV_y), dim = 0).T\n",
    "print(NV.shape)\n",
    "\n",
    "DP = torch.stack((DP_x, DP_y), dim = 0).T\n",
    "print(DP.shape)\n",
    "plt.scatter(NV[:,0].numpy()/DP[:,0].numpy(), NV[:,1].numpy()/DP[:,1].numpy())"
   ]
  },
  {
   "cell_type": "code",
   "execution_count": 75,
   "metadata": {},
   "outputs": [
    {
     "name": "stdout",
     "output_type": "stream",
     "text": [
      "Unique cluster combinations: \n",
      " tensor([[0, 0],\n",
      "        [0, 1],\n",
      "        [1, 1]])\n",
      "True K:  3\n",
      "cluster weights:  tensor([0.1450, 0.8390, 0.0160])\n",
      "Corresponding types for unique combinations: \n",
      " [['P', 'P'], ['P', 'B'], ['B', 'B']]\n"
     ]
    },
    {
     "data": {
      "image/png": "[encoded data removed]",
      "text/plain": [
       "<Figure size 640x480 with 1 Axes>"
      ]
     },
     "metadata": {},
     "output_type": "display_data"
    }
   ],
   "source": [
    "combined_labels = torch.stack((labels_x, labels_y), dim=1)\n",
    "unique_combinations, cluster_ids = torch.unique(combined_labels, return_inverse=True, dim=0)\n",
    "\n",
    "print(f\"Unique cluster combinations: \\n {unique_combinations}\")\n",
    "# print(f\"Clusters: {cluster_ids}\")\n",
    "\n",
    "# Count occurrences of each unique cluster combination using cluster_ids\n",
    "cluster_counts = torch.bincount(cluster_ids)\n",
    "print(\"True K: \", len(cluster_counts))\n",
    "cluster_proportions = cluster_counts.float() / N\n",
    "print(\"cluster weights: \", cluster_proportions)\n",
    "\n",
    "\n",
    "unique_types = []\n",
    "for combo in unique_combinations:\n",
    "    x_index = (labels_x == combo[0]).nonzero(as_tuple=True)[0][0].item()  # Find index in labels_x\n",
    "    y_index = (labels_y == combo[1]).nonzero(as_tuple=True)[0][0].item()  # Find index in labels_y\n",
    "    unique_types.append([type_labels_x[x_index], type_labels_y[y_index]])\n",
    "\n",
    "unique_params = []\n",
    "for combo in unique_combinations:\n",
    "    x_index = (labels_x == combo[0]).nonzero(as_tuple=True)[0][0].item()  # Find index in labels_x\n",
    "    y_index = (labels_y == combo[1]).nonzero(as_tuple=True)[0][0].item()  # Find index in labels_y\n",
    "    unique_params.append([param_list_x[x_index], param_list_y[y_index]])\n",
    "\n",
    "print(f\"Corresponding types for unique combinations: \\n {unique_types}\")\n",
    "\n",
    "for i, cluster in enumerate(unique_combinations):\n",
    "    mask = (cluster_ids == i)  # Mask for current cluster\n",
    "    plt.scatter(NV[mask, 0].numpy() / DP[mask, 0].numpy(), \n",
    "                NV[mask, 1].numpy() / DP[mask, 1].numpy(), \n",
    "                label=f'{i} {unique_types[i]} {unique_params[i]}')\n",
    "plt.legend(loc='best')\n",
    "plt.show()"
   ]
  },
  {
   "cell_type": "code",
   "execution_count": 77,
   "metadata": {},
   "outputs": [
    {
     "name": "stdout",
     "output_type": "stream",
     "text": [
      "No GPU available. Training will run on CPU.\n",
      "RUN WITH K = 2 AND SEED = 40\n",
      "NV = 0 before: tensor(136)\n",
      "NV = 0 after: tensor(136)\n",
      "Iteration 0: Loss = 24174067.607712984\n",
      "Iteration 200: Loss = 13832190.636770785\n",
      "Iteration 400: Loss = 10251140.23700571\n",
      "Iteration 600: Loss = 8953288.103389263\n",
      "Iteration 800: Loss = 8307110.183069408\n",
      "Iteration 1000: Loss = 7843104.092000127\n",
      "Iteration 1200: Loss = 7446962.535971284\n",
      "Iteration 1400: Loss = 7080403.355189025\n",
      "Iteration 1600: Loss = 6937802.986294866\n",
      "Iteration 1800: Loss = 6897410.490323484\n",
      "Inference lk:  -6950.517\n",
      "Final lk (integr):  tensor(-6494.3438, grad_fn=<SumBackward0>)\n",
      "INTEGR: \n",
      "bic: 13223.55078125 \n",
      "\n",
      "icl: 13225.798828125 \n",
      "\n",
      "RUN WITH K = 3 AND SEED = 40\n",
      "NV = 0 before: tensor(136)\n",
      "NV = 0 after: tensor(136)\n",
      "Iteration 0: Loss = 23740356.9778378\n",
      "Iteration 200: Loss = 12922607.665865421\n",
      "Iteration 400: Loss = 9361768.637350082\n",
      "Iteration 600: Loss = 8087864.108393431\n",
      "Iteration 800: Loss = 7520420.497182608\n",
      "Iteration 1000: Loss = 7221018.585426807\n",
      "Iteration 1200: Loss = 7057286.677261233\n",
      "Iteration 1400: Loss = 6954738.729890585\n",
      "Iteration 1600: Loss = 6891952.811897516\n",
      "Iteration 1800: Loss = 6865020.016158462\n",
      "Inference lk:  -6760.556\n",
      "Final lk (integr):  tensor(-6469.8403, grad_fn=<SumBackward0>)\n",
      "INTEGR: \n",
      "bic: 13291.9765625 \n",
      "\n",
      "icl: 13341.9326171875 \n",
      "\n",
      "RUN WITH K = 4 AND SEED = 40\n",
      "NV = 0 before: tensor(136)\n",
      "NV = 0 after: tensor(136)\n",
      "Iteration 0: Loss = 23783282.84902215\n",
      "Iteration 200: Loss = 12299006.225296855\n",
      "Iteration 400: Loss = 8823351.28260994\n",
      "Iteration 600: Loss = 7674413.462851286\n",
      "Iteration 800: Loss = 7187690.125383139\n",
      "Iteration 1000: Loss = 6933231.153354406\n",
      "Iteration 1200: Loss = 6789009.434414268\n",
      "Iteration 1400: Loss = 6682869.639897585\n",
      "Iteration 1600: Loss = 6622369.0606946945\n",
      "Iteration 1800: Loss = 6598904.20239687\n",
      "Inference lk:  -6550.532\n",
      "Final lk (integr):  tensor(-6426.1997, grad_fn=<SumBackward0>)\n",
      "INTEGR: \n",
      "bic: 13322.126953125 \n",
      "\n",
      "icl: 13658.88671875 \n",
      "\n",
      "Selected number of clusters is 2 with seed 40\n"
     ]
    }
   ],
   "source": [
    "seed_list = [40]\n",
    "true_K = len(cluster_counts)\n",
    "K_list = [true_K - 1, true_K, true_K + 1]\n",
    "mb, best_K, best_seed = mobster_mv.fit(NV, DP, num_iter = 2000, K = K_list, seed = seed_list, lr = 0.005)"
   ]
  },
  {
   "cell_type": "code",
   "execution_count": 78,
   "metadata": {},
   "outputs": [
    {
     "name": "stdout",
     "output_type": "stream",
     "text": [
      "torch.Size([1000])\n",
      "torch.Size([1000])\n",
      "Normalized Mutual Information (NMI): 0.8847\n",
      "Adjusted Rand Index (ARI): 0.9199081861700384\n"
     ]
    }
   ],
   "source": [
    "from sklearn.metrics import adjusted_rand_score\n",
    "print(cluster_ids.shape)\n",
    "print(mb.params[\"cluster_assignments\"].shape)\n",
    "true_labels = cluster_ids\n",
    "predicted_labels = mb.params[\"cluster_assignments\"]\n",
    "\n",
    "nmi_score = normalized_mutual_info_score(true_labels, predicted_labels)\n",
    "ari = adjusted_rand_score(true_labels, predicted_labels)\n",
    "print(f\"Normalized Mutual Information (NMI): {nmi_score:.4f}\")\n",
    "print(f\"Adjusted Rand Index (ARI): {ari}\")"
   ]
  },
  {
   "cell_type": "code",
   "execution_count": 79,
   "metadata": {},
   "outputs": [
    {
     "name": "stdout",
     "output_type": "stream",
     "text": [
      "tensor([0.1450, 0.8390, 0.0160])\n",
      "tensor([0.8610, 0.1390], dtype=torch.float64, grad_fn=<DivBackward0>)\n"
     ]
    }
   ],
   "source": [
    "print(cluster_proportions)\n",
    "print(mb.params[\"weights_param\"])"
   ]
  },
  {
   "cell_type": "code",
   "execution_count": 80,
   "metadata": {},
   "outputs": [
    {
     "name": "stdout",
     "output_type": "stream",
     "text": [
      "[['P', 'P'], ['P', 'B'], ['B', 'B']]\n"
     ]
    },
    {
     "data": {
      "text/plain": [
       "array([[0., 0.],\n",
       "       [0., 1.],\n",
       "       [1., 1.]])"
      ]
     },
     "execution_count": 80,
     "metadata": {},
     "output_type": "execute_result"
    }
   ],
   "source": [
    "print(unique_types)\n",
    "true_dist = np.array([[0. if elem == 'P' else 1. for elem in sublist] for sublist in unique_types])\n",
    "true_dist"
   ]
  },
  {
   "cell_type": "code",
   "execution_count": 81,
   "metadata": {},
   "outputs": [
    {
     "name": "stdout",
     "output_type": "stream",
     "text": [
      "tensor([[[0.5415, 0.4585],\n",
      "         [0.0133, 0.9867]],\n",
      "\n",
      "        [[0.5464, 0.4536],\n",
      "         [0.9867, 0.0133]]], grad_fn=<DivBackward0>)\n",
      "[[0. 1.]\n",
      " [0. 0.]]\n"
     ]
    }
   ],
   "source": [
    "delta = mb.params[\"delta_param\"]\n",
    "pred_dist = np.zeros((mb.K, mb.NV.shape[1]))\n",
    "for k in range(mb.K):\n",
    "    for d in range(mb.NV.shape[1]):\n",
    "        delta_kd = delta[k, d]\n",
    "        maxx = torch.argmax(delta_kd)\n",
    "        if maxx == 0: # Pareto\n",
    "            pred_dist[k,d] = 0\n",
    "        else:\n",
    "            pred_dist[k,d] = 1\n",
    "print(delta)\n",
    "print(pred_dist)"
   ]
  },
  {
   "cell_type": "code",
   "execution_count": 86,
   "metadata": {},
   "outputs": [
    {
     "name": "stdout",
     "output_type": "stream",
     "text": [
      "[0. 0. 0. 1. 1. 1.] [0. 1. 0. 0.]\n"
     ]
    }
   ],
   "source": [
    "print(true_dist.flatten(), pred_dist.flatten())"
   ]
  },
  {
   "cell_type": "code",
   "execution_count": 84,
   "metadata": {},
   "outputs": [
    {
     "ename": "ValueError",
     "evalue": "Found input variables with inconsistent numbers of samples: [3, 2]",
     "output_type": "error",
     "traceback": [
      "\u001b[1;31m---------------------------------------------------------------------------\u001b[0m",
      "\u001b[1;31mValueError\u001b[0m                                Traceback (most recent call last)",
      "Cell \u001b[1;32mIn[84], line 19\u001b[0m\n\u001b[0;32m      1\u001b[0m \u001b[38;5;28;01mfrom\u001b[39;00m \u001b[38;5;21;01msklearn\u001b[39;00m\u001b[38;5;21;01m.\u001b[39;00m\u001b[38;5;21;01mmetrics\u001b[39;00m \u001b[38;5;28;01mimport\u001b[39;00m confusion_matrix, classification_report, accuracy_score\n\u001b[0;32m      3\u001b[0m \u001b[38;5;66;03m# Confusion matrix\u001b[39;00m\n\u001b[0;32m      4\u001b[0m \u001b[38;5;66;03m# conf_matrix = confusion_matrix(true_dist.flatten(), pred_dist.flatten(), labels=[0, 1])\u001b[39;00m\n\u001b[0;32m      5\u001b[0m \u001b[38;5;66;03m# print(\"Confusion Matrix:\")\u001b[39;00m\n\u001b[1;32m   (...)\u001b[0m\n\u001b[0;32m     17\u001b[0m \n\u001b[0;32m     18\u001b[0m \u001b[38;5;66;03m# Accuracy score\u001b[39;00m\n\u001b[1;32m---> 19\u001b[0m accuracy \u001b[38;5;241m=\u001b[39m \u001b[43maccuracy_score\u001b[49m\u001b[43m(\u001b[49m\u001b[43mtrue_dist\u001b[49m\u001b[43m,\u001b[49m\u001b[43m \u001b[49m\u001b[43mpred_dist\u001b[49m\u001b[43m)\u001b[49m\n\u001b[0;32m     20\u001b[0m \u001b[38;5;28mprint\u001b[39m(\u001b[38;5;124mf\u001b[39m\u001b[38;5;124m\"\u001b[39m\u001b[38;5;130;01m\\n\u001b[39;00m\u001b[38;5;124mAccuracy: \u001b[39m\u001b[38;5;132;01m{\u001b[39;00maccuracy\u001b[38;5;132;01m:\u001b[39;00m\u001b[38;5;124m.4f\u001b[39m\u001b[38;5;132;01m}\u001b[39;00m\u001b[38;5;124m\"\u001b[39m)\n",
      "File \u001b[1;32mc:\\Users\\Standard\\miniconda3\\envs\\mobsterh\\Lib\\site-packages\\sklearn\\utils\\_param_validation.py:211\u001b[0m, in \u001b[0;36mvalidate_params.<locals>.decorator.<locals>.wrapper\u001b[1;34m(*args, **kwargs)\u001b[0m\n\u001b[0;32m    205\u001b[0m \u001b[38;5;28;01mtry\u001b[39;00m:\n\u001b[0;32m    206\u001b[0m     \u001b[38;5;28;01mwith\u001b[39;00m config_context(\n\u001b[0;32m    207\u001b[0m         skip_parameter_validation\u001b[38;5;241m=\u001b[39m(\n\u001b[0;32m    208\u001b[0m             prefer_skip_nested_validation \u001b[38;5;129;01mor\u001b[39;00m global_skip_validation\n\u001b[0;32m    209\u001b[0m         )\n\u001b[0;32m    210\u001b[0m     ):\n\u001b[1;32m--> 211\u001b[0m         \u001b[38;5;28;01mreturn\u001b[39;00m \u001b[43mfunc\u001b[49m\u001b[43m(\u001b[49m\u001b[38;5;241;43m*\u001b[39;49m\u001b[43margs\u001b[49m\u001b[43m,\u001b[49m\u001b[43m \u001b[49m\u001b[38;5;241;43m*\u001b[39;49m\u001b[38;5;241;43m*\u001b[39;49m\u001b[43mkwargs\u001b[49m\u001b[43m)\u001b[49m\n\u001b[0;32m    212\u001b[0m \u001b[38;5;28;01mexcept\u001b[39;00m InvalidParameterError \u001b[38;5;28;01mas\u001b[39;00m e:\n\u001b[0;32m    213\u001b[0m     \u001b[38;5;66;03m# When the function is just a wrapper around an estimator, we allow\u001b[39;00m\n\u001b[0;32m    214\u001b[0m     \u001b[38;5;66;03m# the function to delegate validation to the estimator, but we replace\u001b[39;00m\n\u001b[0;32m    215\u001b[0m     \u001b[38;5;66;03m# the name of the estimator by the name of the function in the error\u001b[39;00m\n\u001b[0;32m    216\u001b[0m     \u001b[38;5;66;03m# message to avoid confusion.\u001b[39;00m\n\u001b[0;32m    217\u001b[0m     msg \u001b[38;5;241m=\u001b[39m re\u001b[38;5;241m.\u001b[39msub(\n\u001b[0;32m    218\u001b[0m         \u001b[38;5;124mr\u001b[39m\u001b[38;5;124m\"\u001b[39m\u001b[38;5;124mparameter of \u001b[39m\u001b[38;5;124m\\\u001b[39m\u001b[38;5;124mw+ must be\u001b[39m\u001b[38;5;124m\"\u001b[39m,\n\u001b[0;32m    219\u001b[0m         \u001b[38;5;124mf\u001b[39m\u001b[38;5;124m\"\u001b[39m\u001b[38;5;124mparameter of \u001b[39m\u001b[38;5;132;01m{\u001b[39;00mfunc\u001b[38;5;241m.\u001b[39m\u001b[38;5;18m__qualname__\u001b[39m\u001b[38;5;132;01m}\u001b[39;00m\u001b[38;5;124m must be\u001b[39m\u001b[38;5;124m\"\u001b[39m,\n\u001b[0;32m    220\u001b[0m         \u001b[38;5;28mstr\u001b[39m(e),\n\u001b[0;32m    221\u001b[0m     )\n",
      "File \u001b[1;32mc:\\Users\\Standard\\miniconda3\\envs\\mobsterh\\Lib\\site-packages\\sklearn\\metrics\\_classification.py:220\u001b[0m, in \u001b[0;36maccuracy_score\u001b[1;34m(y_true, y_pred, normalize, sample_weight)\u001b[0m\n\u001b[0;32m    154\u001b[0m \u001b[38;5;250m\u001b[39m\u001b[38;5;124;03m\"\"\"Accuracy classification score.\u001b[39;00m\n\u001b[0;32m    155\u001b[0m \n\u001b[0;32m    156\u001b[0m \u001b[38;5;124;03mIn multilabel classification, this function computes subset accuracy:\u001b[39;00m\n\u001b[1;32m   (...)\u001b[0m\n\u001b[0;32m    216\u001b[0m \u001b[38;5;124;03m0.5\u001b[39;00m\n\u001b[0;32m    217\u001b[0m \u001b[38;5;124;03m\"\"\"\u001b[39;00m\n\u001b[0;32m    219\u001b[0m \u001b[38;5;66;03m# Compute accuracy for each possible representation\u001b[39;00m\n\u001b[1;32m--> 220\u001b[0m y_type, y_true, y_pred \u001b[38;5;241m=\u001b[39m \u001b[43m_check_targets\u001b[49m\u001b[43m(\u001b[49m\u001b[43my_true\u001b[49m\u001b[43m,\u001b[49m\u001b[43m \u001b[49m\u001b[43my_pred\u001b[49m\u001b[43m)\u001b[49m\n\u001b[0;32m    221\u001b[0m check_consistent_length(y_true, y_pred, sample_weight)\n\u001b[0;32m    222\u001b[0m \u001b[38;5;28;01mif\u001b[39;00m y_type\u001b[38;5;241m.\u001b[39mstartswith(\u001b[38;5;124m\"\u001b[39m\u001b[38;5;124mmultilabel\u001b[39m\u001b[38;5;124m\"\u001b[39m):\n",
      "File \u001b[1;32mc:\\Users\\Standard\\miniconda3\\envs\\mobsterh\\Lib\\site-packages\\sklearn\\metrics\\_classification.py:84\u001b[0m, in \u001b[0;36m_check_targets\u001b[1;34m(y_true, y_pred)\u001b[0m\n\u001b[0;32m     57\u001b[0m \u001b[38;5;28;01mdef\u001b[39;00m \u001b[38;5;21m_check_targets\u001b[39m(y_true, y_pred):\n\u001b[0;32m     58\u001b[0m \u001b[38;5;250m    \u001b[39m\u001b[38;5;124;03m\"\"\"Check that y_true and y_pred belong to the same classification task.\u001b[39;00m\n\u001b[0;32m     59\u001b[0m \n\u001b[0;32m     60\u001b[0m \u001b[38;5;124;03m    This converts multiclass or binary types to a common shape, and raises a\u001b[39;00m\n\u001b[1;32m   (...)\u001b[0m\n\u001b[0;32m     82\u001b[0m \u001b[38;5;124;03m    y_pred : array or indicator matrix\u001b[39;00m\n\u001b[0;32m     83\u001b[0m \u001b[38;5;124;03m    \"\"\"\u001b[39;00m\n\u001b[1;32m---> 84\u001b[0m     \u001b[43mcheck_consistent_length\u001b[49m\u001b[43m(\u001b[49m\u001b[43my_true\u001b[49m\u001b[43m,\u001b[49m\u001b[43m \u001b[49m\u001b[43my_pred\u001b[49m\u001b[43m)\u001b[49m\n\u001b[0;32m     85\u001b[0m     type_true \u001b[38;5;241m=\u001b[39m type_of_target(y_true, input_name\u001b[38;5;241m=\u001b[39m\u001b[38;5;124m\"\u001b[39m\u001b[38;5;124my_true\u001b[39m\u001b[38;5;124m\"\u001b[39m)\n\u001b[0;32m     86\u001b[0m     type_pred \u001b[38;5;241m=\u001b[39m type_of_target(y_pred, input_name\u001b[38;5;241m=\u001b[39m\u001b[38;5;124m\"\u001b[39m\u001b[38;5;124my_pred\u001b[39m\u001b[38;5;124m\"\u001b[39m)\n",
      "File \u001b[1;32mc:\\Users\\Standard\\miniconda3\\envs\\mobsterh\\Lib\\site-packages\\sklearn\\utils\\validation.py:409\u001b[0m, in \u001b[0;36mcheck_consistent_length\u001b[1;34m(*arrays)\u001b[0m\n\u001b[0;32m    407\u001b[0m uniques \u001b[38;5;241m=\u001b[39m np\u001b[38;5;241m.\u001b[39munique(lengths)\n\u001b[0;32m    408\u001b[0m \u001b[38;5;28;01mif\u001b[39;00m \u001b[38;5;28mlen\u001b[39m(uniques) \u001b[38;5;241m>\u001b[39m \u001b[38;5;241m1\u001b[39m:\n\u001b[1;32m--> 409\u001b[0m     \u001b[38;5;28;01mraise\u001b[39;00m \u001b[38;5;167;01mValueError\u001b[39;00m(\n\u001b[0;32m    410\u001b[0m         \u001b[38;5;124m\"\u001b[39m\u001b[38;5;124mFound input variables with inconsistent numbers of samples: \u001b[39m\u001b[38;5;132;01m%r\u001b[39;00m\u001b[38;5;124m\"\u001b[39m\n\u001b[0;32m    411\u001b[0m         \u001b[38;5;241m%\u001b[39m [\u001b[38;5;28mint\u001b[39m(l) \u001b[38;5;28;01mfor\u001b[39;00m l \u001b[38;5;129;01min\u001b[39;00m lengths]\n\u001b[0;32m    412\u001b[0m     )\n",
      "\u001b[1;31mValueError\u001b[0m: Found input variables with inconsistent numbers of samples: [3, 2]"
     ]
    }
   ],
   "source": [
    "from sklearn.metrics import confusion_matrix, classification_report, accuracy_score\n",
    "\n",
    "# Confusion matrix\n",
    "conf_matrix = confusion_matrix(true_dist.flatten(), pred_dist.flatten(), labels=[0, 1])\n",
    "print(\"Confusion Matrix:\")\n",
    "print(conf_matrix)\n",
    "plt.figure(figsize=(6, 4))\n",
    "sns.heatmap(conf_matrix, annot=True, fmt='d', cmap='Blues', cbar=False)\n",
    "plt.xlabel('Predicted')\n",
    "plt.ylabel('True')\n",
    "plt.title('Confusion Matrix')\n",
    "plt.show()\n",
    "\n",
    "# Classification report with precision, recall, F1-score, and accuracy\n",
    "print(\"\\nClassification Report:\")\n",
    "print(classification_report(true_dist, pred_dist, target_names=['Pareto', 'Beta']))\n",
    "\n",
    "# Accuracy score\n",
    "accuracy = accuracy_score(true_dist, pred_dist)\n",
    "print(f\"\\nAccuracy: {accuracy:.4f}\")\n"
   ]
  },
  {
   "cell_type": "markdown",
   "metadata": {},
   "source": [
    "### Check"
   ]
  },
  {
   "cell_type": "code",
   "execution_count": null,
   "metadata": {},
   "outputs": [],
   "source": [
    "import torch\n",
    "import torch.distributions as dist\n",
    "import matplotlib.pyplot as plt\n",
    "\n",
    "# Define the Pareto-Binomial function\n",
    "def pareto_binomial(N, alpha, L, H, depth):\n",
    "    p = BoundedPareto(scale=L, alpha=alpha, upper_limit=H).sample((N,))\n",
    "    return dist.Binomial(total_count=depth, probs=p).sample()\n",
    "\n",
    "# Define the Beta-Binomial function\n",
    "def beta_binomial(N, phi, kappa, depth):\n",
    "    a = phi * kappa\n",
    "    b = (1 - phi) * kappa\n",
    "    p = dist.Beta(a, b).sample((N,))\n",
    "    return dist.Binomial(total_count=depth, probs=p).sample()\n",
    "\n",
    "# Modify the data generation function to sample 2D datasets directly\n",
    "def generate_data_2d(N, K, pi):\n",
    "    NV = []\n",
    "    labels = []\n",
    "    type_labels = []\n",
    "    param_list = []\n",
    "    \n",
    "    depth = torch.tensor(120).repeat((N,))  # Fixed depth\n",
    "\n",
    "    # Always have a Beta-Binomial component with phi=0.5\n",
    "    kappa = 200.\n",
    "    NV.append(beta_binomial(pi[0], 0.5, kappa, depth[:pi[0]]))\n",
    "    labels.extend([0] * pi[0])\n",
    "    type_labels.extend(['B'] * pi[0])\n",
    "    param_list.extend([0.5] * pi[0])\n",
    "\n",
    "    # Always have a Pareto-Binomial component\n",
    "    alpha = torch.tensor(1.0)  # Pareto shape parameter\n",
    "    pareto_L = torch.tensor(0.01)  # Scale Pareto\n",
    "    pareto_H = torch.tensor(0.5)  # Upper bound Pareto\n",
    "    NV.append(pareto_binomial(pi[1], alpha, pareto_L, pareto_H, depth[pi[0]:(pi[0]+pi[1])]))\n",
    "    labels.extend([1] * pi[1])\n",
    "    type_labels.extend(['P'] * pi[1])\n",
    "    param_list.extend([1.] * pi[1])\n",
    "    \n",
    "    # Randomly sample from Beta-Binomial or Pareto-Binomial for additional components\n",
    "    for k in range(2, K):\n",
    "        if k % 2 == 0:  # Even index: Beta-Binomial\n",
    "            phi = dist.Uniform(0.15, 0.45).sample()  # Random phi in [0.15, 0.45]\n",
    "            NV.append(beta_binomial(pi[k], phi, kappa, depth[pi[0]+pi[1]:(pi[0]+pi[1]+pi[k])]))\n",
    "            labels.extend([k] * pi[k])\n",
    "            type_labels.extend(['B'] * pi[k])\n",
    "            param_list.extend([round(phi.item(), 3)] * pi[k])\n",
    "        else:  # Odd index: Pareto-Binomial\n",
    "            NV.append(pareto_binomial(pi[k], alpha, pareto_L, pareto_H, depth[pi[0]+pi[1]:(pi[0]+pi[1]+pi[k])]))\n",
    "            labels.extend([k] * pi[k])\n",
    "            type_labels.extend(['P'] * pi[k])\n",
    "            param_list.extend([1.] * pi[k])\n",
    "\n",
    "    NV = torch.cat(NV)\n",
    "    labels = torch.tensor(labels)\n",
    "    return NV, depth, labels, type_labels, param_list\n",
    "\n",
    "# Parameters\n",
    "N = 1000  # number of samples\n",
    "K = 4    # total number of clusters (including the fixed ones)\n",
    "\n",
    "# Generate proportions for clusters\n",
    "pi = dist.Dirichlet(torch.ones(K)).sample() * N  # Number of data in each cluster\n",
    "pi = np.round(pi.numpy()).astype('int')\n",
    "\n",
    "# Adjust proportions to ensure they sum to N\n",
    "if np.sum(pi) < N:\n",
    "    pi[-1] += 1\n",
    "elif np.sum(pi) > N:\n",
    "    pi[-1] -= 1\n",
    "\n",
    "# Generate 2D data\n",
    "NV, DP, labels, type_labels, param_list = generate_data_2d(N, K, pi)\n",
    "\n",
    "# Reshape the data into a 2D format\n",
    "NV_2D = NV.view(-1, 2)\n",
    "print(NV_2D.shape)\n",
    "\n",
    "# Scatter plot\n",
    "plt.scatter(NV_2D[:, 0].numpy() / DP.numpy(), NV_2D[:, 1].numpy() / DP.numpy())\n",
    "plt.xlabel('Dimension 1')\n",
    "plt.ylabel('Dimension 2')\n",
    "plt.title('2D Dataset from Mixed Distributions')\n",
    "plt.show()\n"
   ]
  }
 ],
 "metadata": {
  "kernelspec": {
   "display_name": "mobsterh",
   "language": "python",
   "name": "python3"
  },
  "language_info": {
   "codemirror_mode": {
    "name": "ipython",
    "version": 3
   },
   "file_extension": ".py",
   "mimetype": "text/x-python",
   "name": "python",
   "nbconvert_exporter": "python",
   "pygments_lexer": "ipython3",
   "version": "3.12.2"
  }
 },
 "nbformat": 4,
 "nbformat_minor": 2
}
