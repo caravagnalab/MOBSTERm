{
 "cells": [
  {
   "cell_type": "code",
   "execution_count": 5,
   "metadata": {},
   "outputs": [
    {
     "name": "stdout",
     "output_type": "stream",
     "text": [
      "nmi values for N=5000, K=8, D=2 written to ./results/p_07_cov_70/D_2/nmi/nmi_N_5000_K_8_D_2.txt\n"
     ]
    }
   ],
   "source": [
    "from sklearn.metrics import adjusted_rand_score\n",
    "import re\n",
    "from sklearn.metrics import normalized_mutual_info_score, accuracy_score\n",
    "import os \n",
    "import pandas as pd\n",
    "\n",
    "purity = 0.7\n",
    "coverage = 70\n",
    "# 5000,6,2,0.7,100\n",
    "# 5000,8,2,0.7,70\n",
    "general_folder = f\"./results/p_{str(purity).replace('.', '')}_cov_{coverage}/D_2/\"\n",
    "directory = general_folder + 'csv/'\n",
    "output_directory = general_folder + 'nmi/'\n",
    "\n",
    "os.makedirs(output_directory, exist_ok=True)\n",
    "\n",
    "# Regular expression pattern to match the file names and extract N, K, D, and df values\n",
    "pattern = re.compile(r'N_(\\d+)_K_(\\d+)_D_(\\d+)_df_(\\d+)\\.csv')\n",
    "\n",
    "# Dictionary to store nmi values for each (N, K, D) combination\n",
    "nmi_dict = {}\n",
    "\n",
    "# Iterate through files in the specified directory\n",
    "for filename in os.listdir(directory):\n",
    "    # print('HERE')\n",
    "    # Check if the file matches the pattern\n",
    "    match = pattern.match(filename)\n",
    "    if match:\n",
    "        # Extract N, K, D, and df values from the file name\n",
    "        N, K, D, df = map(int, match.groups())\n",
    "        if N == 5000 and K == 8 and D == 2:\n",
    "            # print('HERE')\n",
    "            # Construct the full file path\n",
    "            file_path = os.path.join(directory, filename)\n",
    "            # Read the CSV file\n",
    "            df_data = pd.read_csv(file_path)\n",
    "            # Extract the specified columns if they exist\n",
    "            if 'True_cluster' in df_data.columns and 'Pred_cluster' in df_data.columns:\n",
    "                true_labels = df_data['True_cluster'].tolist()\n",
    "                pred_labels = df_data['Pred_cluster'].tolist()\n",
    "                # Calculate the Adjusted Rand Index (nmi)\n",
    "                nmi = adjusted_rand_score(true_labels, pred_labels)\n",
    "                # Add the nmi to the list for this combination of N, K, D\n",
    "                if (N, K, D) not in nmi_dict:\n",
    "                    nmi_dict[(N, K, D)] = []\n",
    "                nmi_dict[(N, K, D)].append((df, nmi))\n",
    "\n",
    "# Write the nmi lists to text files for each (N, K, D) combination\n",
    "for (N, K, D), nmi_list in nmi_dict.items():\n",
    "    # Sort the nmi values by df to ensure the order is correct (0 to 20)\n",
    "    nmi_list_sorted = [nmi for _, nmi in sorted(nmi_list)]\n",
    "    # Construct the output file path\n",
    "    output_file_path = os.path.join(output_directory, f'nmi_N_{N}_K_{K}_D_{D}.txt')\n",
    "    # Write the list of 20 nmi values to the text file\n",
    "    with open(output_file_path, 'w') as f:\n",
    "        f.write('\\n'.join(map(str, nmi_list_sorted)))\n",
    "\n",
    "    print(f'nmi values for N={N}, K={K}, D={D} written to {output_file_path}')\n"
   ]
  }
 ],
 "metadata": {
  "kernelspec": {
   "display_name": "mobster",
   "language": "python",
   "name": "python3"
  },
  "language_info": {
   "codemirror_mode": {
    "name": "ipython",
    "version": 3
   },
   "file_extension": ".py",
   "mimetype": "text/x-python",
   "name": "python",
   "nbconvert_exporter": "python",
   "pygments_lexer": "ipython3",
   "version": "3.11.8"
  }
 },
 "nbformat": 4,
 "nbformat_minor": 2
}
