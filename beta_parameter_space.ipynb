{
 "cells": [
  {
   "cell_type": "code",
   "execution_count": 2,
   "metadata": {},
   "outputs": [
    {
     "name": "stdout",
     "output_type": "stream",
     "text": [
      "100.0 100.0\n"
     ]
    }
   ],
   "source": [
    "import numpy as np\n",
    "phi = 0.5\n",
    "kappa = 200\n",
    "a = phi*kappa\n",
    "b = (1-phi)*kappa\n",
    "print(a,b)"
   ]
  },
  {
   "cell_type": "code",
   "execution_count": 13,
   "metadata": {},
   "outputs": [
    {
     "name": "stdout",
     "output_type": "stream",
     "text": [
      "(50,)\n",
      "(20,)\n"
     ]
    }
   ],
   "source": [
    "phi_beta = np.arange(0,0.5,0.01)\n",
    "kappa_beta = np.arange(100,500,20)\n",
    "print(phi_beta.shape)\n",
    "print(kappa_beta.shape)"
   ]
  }
 ],
 "metadata": {
  "kernelspec": {
   "display_name": "deeplearning",
   "language": "python",
   "name": "python3"
  },
  "language_info": {
   "codemirror_mode": {
    "name": "ipython",
    "version": 3
   },
   "file_extension": ".py",
   "mimetype": "text/x-python",
   "name": "python",
   "nbconvert_exporter": "python",
   "pygments_lexer": "ipython3",
   "version": "3.11.5"
  }
 },
 "nbformat": 4,
 "nbformat_minor": 2
}
